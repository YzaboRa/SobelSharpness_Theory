{
 "cells": [
  {
   "cell_type": "code",
   "execution_count": 1,
   "id": "median-regard",
   "metadata": {},
   "outputs": [],
   "source": [
    "%matplotlib widget\n",
    "from ipywidgets import *\n",
    "import os\n",
    "import cv2 as cv\n",
    "import numpy as np\n",
    "from PIL import Image\n",
    "import matplotlib.pyplot as plt\n",
    "import matplotlib\n",
    "import matplotlib.colors as colors\n",
    "from mpl_toolkits.axes_grid1 import make_axes_locatable\n",
    "from PIL import ImageOps\n",
    "from scipy.optimize import curve_fit\n",
    "from scipy.ndimage import gaussian_filter\n",
    "from scipy.special import erf"
   ]
  },
  {
   "cell_type": "code",
   "execution_count": 2,
   "id": "academic-riverside",
   "metadata": {},
   "outputs": [],
   "source": [
    "## Define functions\n",
    "\n",
    "def Sobel(im, k, N):\n",
    "    \"\"\" Take the sobel of the image (x and y) with a kerner of k, normalized by N \"\"\"\n",
    "    (nrows, ncols) = im.shape\n",
    "    sobelx = cv.Sobel(im,ddepth=cv.CV_64F, dx=1,dy=0,ksize=k) #cv.CV_64F\n",
    "    sobely = cv.Sobel(im,ddepth=cv.CV_64F, dx=0,dy=1,ksize=k)\n",
    "    sobel = np.zeros(im.shape)\n",
    "    if N=='self':\n",
    "        sobel = np.sqrt(sobelx**2 + sobely**2)\n",
    "        sobel = sobel/np.amax(sobel)\n",
    "    else: \n",
    "        sobel = np.sqrt(sobelx**2 + sobely**2)/N\n",
    "    return sobel\n",
    "\n",
    "def AddArtificialFeature(im, width_0_curved, start_0_curved):\n",
    "    \"\"\" \n",
    "    Add artificial feature to normalize the sobel value (1.0 = max sharpness).\n",
    "    White (2**12) square in the middle of a black (0) square. \n",
    "    'width_0_curved'-> width of each edge (total width = width_0_curved*3)\n",
    "    'start_0_curved'-> bottom left corner (start position\n",
    "    \"\"\"\n",
    "    im_withFeature = im\n",
    "    width_256_curved = width_0_curved\n",
    "    p0 = start_0_curved\n",
    "    p1 = start_0_curved+width_0_curved\n",
    "    p2 = start_0_curved+width_0_curved+width_256_curved\n",
    "    p3 = start_0_curved+width_0_curved*2+width_256_curved\n",
    "    im_withFeature[p0:p3,p0:p3] = 0.0 #np.amin(im)\n",
    "    im_withFeature[p1:p2,p1:p2] = 2.0**12 #np.amax(im)\n",
    "    return im_withFeature\n",
    "\n",
    "def RemoveArtificialFeature(sobel, width_0_curved, start_0_curved, k):\n",
    "    \"\"\" \n",
    "    Removes artificial feature added by 'AddArtificialFeature' from the image.\n",
    "    Set the area to min image value.\n",
    "    \"\"\"\n",
    "    sobel_removed = sobel\n",
    "    width_256_curved = width_0_curved\n",
    "    p0 = start_0_curved - k\n",
    "    p3 = start_0_curved+width_0_curved*2+width_256_curved + k\n",
    "    sobel_removed[p0:p3,p0:p3] = np.amin(sobel)\n",
    "    return sobel_removed\n",
    "\n",
    "def sobelModel(data,a,b,c,m,n,d): # data = (x,y)\n",
    "    \"\"\" Function to fit the sobel simulation \"\"\"\n",
    "    x,y = data\n",
    "    return (m*y+n)*(a*np.exp(-b*x)+c)+d"
   ]
  },
  {
   "cell_type": "code",
   "execution_count": 56,
   "id": "stable-kitchen",
   "metadata": {},
   "outputs": [
    {
     "ename": "FileNotFoundError",
     "evalue": "[Errno 2] No such file or directory: '/Users/racicot.i/Documents/GitHub_CodeResults/SobelSharpness_Theory/im_perfect_sub.npy'",
     "output_type": "error",
     "traceback": [
      "\u001b[0;31m---------------------------------------------------------------------------\u001b[0m",
      "\u001b[0;31mFileNotFoundError\u001b[0m                         Traceback (most recent call last)",
      "\u001b[0;32m<ipython-input-56-f355b0b348b7>\u001b[0m in \u001b[0;36m<module>\u001b[0;34m\u001b[0m\n\u001b[1;32m      3\u001b[0m \u001b[0mcurrent_directory\u001b[0m \u001b[0;34m=\u001b[0m \u001b[0mos\u001b[0m\u001b[0;34m.\u001b[0m\u001b[0mgetcwd\u001b[0m\u001b[0;34m(\u001b[0m\u001b[0;34m)\u001b[0m\u001b[0;34m\u001b[0m\u001b[0;34m\u001b[0m\u001b[0m\n\u001b[1;32m      4\u001b[0m \u001b[0msave_directory\u001b[0m \u001b[0;34m=\u001b[0m \u001b[0;34m'/Users/racicot.i/Documents/GitHub_CodeResults/SobelSharpness_Theory'\u001b[0m\u001b[0;34m\u001b[0m\u001b[0;34m\u001b[0m\u001b[0m\n\u001b[0;32m----> 5\u001b[0;31m \u001b[0mim_perfect_sub\u001b[0m \u001b[0;34m=\u001b[0m \u001b[0mnp\u001b[0m\u001b[0;34m.\u001b[0m\u001b[0mload\u001b[0m\u001b[0;34m(\u001b[0m\u001b[0msave_directory\u001b[0m\u001b[0;34m+\u001b[0m\u001b[0;34m'/im_perfect_sub.npy'\u001b[0m\u001b[0;34m)\u001b[0m \u001b[0;31m## Might want to get a better one\u001b[0m\u001b[0;34m\u001b[0m\u001b[0;34m\u001b[0m\u001b[0m\n\u001b[0m\u001b[1;32m      6\u001b[0m \u001b[0;34m\u001b[0m\u001b[0m\n\u001b[1;32m      7\u001b[0m \u001b[0;34m\u001b[0m\u001b[0m\n",
      "\u001b[0;32m~/opt/anaconda3/envs/Analysis_3p8/lib/python3.8/site-packages/numpy/lib/npyio.py\u001b[0m in \u001b[0;36mload\u001b[0;34m(file, mmap_mode, allow_pickle, fix_imports, encoding)\u001b[0m\n\u001b[1;32m    414\u001b[0m             \u001b[0mown_fid\u001b[0m \u001b[0;34m=\u001b[0m \u001b[0;32mFalse\u001b[0m\u001b[0;34m\u001b[0m\u001b[0;34m\u001b[0m\u001b[0m\n\u001b[1;32m    415\u001b[0m         \u001b[0;32melse\u001b[0m\u001b[0;34m:\u001b[0m\u001b[0;34m\u001b[0m\u001b[0;34m\u001b[0m\u001b[0m\n\u001b[0;32m--> 416\u001b[0;31m             \u001b[0mfid\u001b[0m \u001b[0;34m=\u001b[0m \u001b[0mstack\u001b[0m\u001b[0;34m.\u001b[0m\u001b[0menter_context\u001b[0m\u001b[0;34m(\u001b[0m\u001b[0mopen\u001b[0m\u001b[0;34m(\u001b[0m\u001b[0mos_fspath\u001b[0m\u001b[0;34m(\u001b[0m\u001b[0mfile\u001b[0m\u001b[0;34m)\u001b[0m\u001b[0;34m,\u001b[0m \u001b[0;34m\"rb\"\u001b[0m\u001b[0;34m)\u001b[0m\u001b[0;34m)\u001b[0m\u001b[0;34m\u001b[0m\u001b[0;34m\u001b[0m\u001b[0m\n\u001b[0m\u001b[1;32m    417\u001b[0m             \u001b[0mown_fid\u001b[0m \u001b[0;34m=\u001b[0m \u001b[0;32mTrue\u001b[0m\u001b[0;34m\u001b[0m\u001b[0;34m\u001b[0m\u001b[0m\n\u001b[1;32m    418\u001b[0m \u001b[0;34m\u001b[0m\u001b[0m\n",
      "\u001b[0;31mFileNotFoundError\u001b[0m: [Errno 2] No such file or directory: '/Users/racicot.i/Documents/GitHub_CodeResults/SobelSharpness_Theory/im_perfect_sub.npy'"
     ]
    }
   ],
   "source": [
    "## Import image\n",
    "\n",
    "current_directory = os.getcwd()\n",
    "save_directory = '/Users/racicot.i/Documents/GitHub_CodeResults/SobelSharpness_Theory'\n",
    "im_perfect_sub = np.load(save_directory+'/im_perfect_sub.npy') ## Might want to get a better one \n",
    "\n",
    "\n",
    "## Some parameters\n",
    "\n",
    "## Artificial feature \n",
    "## --> Different for curved/flat detectors because of pixel size difference. (5.5*0.89/8.0)\n",
    "width_0_curved = 22\n",
    "width_256_curved = width_0_curved\n",
    "start_0_curved = 25\n",
    "\n",
    "width_0_flat = 17\n",
    "width_256_flat = width_0_flat\n",
    "start_0_flat = 25\n",
    "\n",
    "# Sobel stuff\n",
    "\n",
    "# threshold = 0.5\n",
    "\n",
    "curved_cell_x, curved_cell_y = 220,220 \n",
    "curved_sobel_k = 9   \n",
    "\n",
    "flat_cell_x, flat_cell_y = 170,170                                              # --> 1.36mm\n",
    "flat_sobel_k = 7"
   ]
  },
  {
   "cell_type": "code",
   "execution_count": 26,
   "id": "wrapped-motion",
   "metadata": {},
   "outputs": [],
   "source": [
    "## Simulate blurring for different greyscale levels\n",
    "\n",
    "k = 9 \n",
    "\n",
    "# Define blurring params (sigma for Gaussian blurring)\n",
    "blur_sigma_list = np.arange(0.0, 10.0, 0.05)\n",
    "# Define greyscale params (max value)\n",
    "greyscale_g_list = np.arange(2**12-1,int((2**12-1)/4),-20)\n",
    "\n",
    "NNs = len(blur_sigma_list)\n",
    "NNg = len(greyscale_g_list)\n",
    "M_sub = np.amax(im_perfect_sub)\n",
    "sobel_max_vals = np.zeros((NNg,NNs))\n",
    "sobel_max_vals_fits = []\n",
    "\n",
    "if k==9:\n",
    "    width_0 = width_0_curved\n",
    "    start_0 = start_0_curved\n",
    "elif k==7:\n",
    "    width_0 = width_0_flat\n",
    "    start_0 = start_0_flat\n",
    "else:\n",
    "    print('Adust values of Artificial feature to the k value')\n",
    "    \n",
    "\n",
    "for i in range(0,NNs):\n",
    "    for j in range(0,NNg):\n",
    "        ## Get values of blurring (sigma) and greyscale (g)\n",
    "        sigma = blur_sigma_list[i]\n",
    "        g = greyscale_g_list[j]\n",
    "        ## adjust greyscale\n",
    "        im_perfect_g = im_perfect_sub/M_sub*g\n",
    "        ## blurr  image\n",
    "        im_blurred = gaussian_filter(im_perfect_g, sigma)\n",
    "        ## add artificial feature that normalizes the sobel\n",
    "        im_blurred_AF = AddArtificialFeature(im_blurred, width_0, start_0)\n",
    "        ## take sobel\n",
    "        im_blurred_sobel = Sobel(im_blurred_AF, k, 'self')\n",
    "        ## remove artificial featre\n",
    "        im_blurred_sobel_noAF = RemoveArtificialFeature(im_blurred_sobel, width_0, start_0, k)\n",
    "        ## take value of max sobel\n",
    "        M_blurred = np.round(np.amax(im_blurred_sobel_noAF),3)\n",
    "        sobel_max_vals[j,i] = M_blurred\n",
    "        ## fix to give the fit a chance because blurring with sigma<1.0 behaves oddly\n",
    "        if i>=10: \n",
    "            sobel_max_vals_fits.append([sigma, g, M_blurred])\n",
    "        \n",
    "sobel_max_vals_fits = np.array(sobel_max_vals_fits)\n",
    "\n",
    "## Save data\n",
    "np.save(save_directory+'/Data/SimMaxSobel_BlurringGreyscale_k'+str(k)+'.npy', \n",
    "        sobel_max_vals_fits)"
   ]
  },
  {
   "cell_type": "code",
   "execution_count": 16,
   "id": "extended-diversity",
   "metadata": {},
   "outputs": [],
   "source": [
    "## Save results depending on the k value to compare them\n",
    "if sobel==9:\n",
    "    sobel_max_vals_fits_9 = sobel_max_vals_fits\n",
    "    sobel_max_vals_9 = sobel_max_vals\n",
    "if sobel==7:\n",
    "    if sobel==9:\n",
    "    sobel_max_vals_fits_7 = sobel_max_vals_fits\n",
    "    sobel_max_vals_7 = sobel_max_vals"
   ]
  },
  {
   "cell_type": "code",
   "execution_count": 27,
   "id": "elementary-binary",
   "metadata": {},
   "outputs": [
    {
     "data": {
      "application/vnd.jupyter.widget-view+json": {
       "model_id": "38776c234f684d35a1f54599d16b246c",
       "version_major": 2,
       "version_minor": 0
      },
      "text/plain": [
       "Canvas(toolbar=Toolbar(toolitems=[('Home', 'Reset original view', 'home', 'home'), ('Back', 'Back to previous …"
      ]
     },
     "metadata": {},
     "output_type": "display_data"
    }
   ],
   "source": [
    "## Plot results\n",
    "fig = plt.figure(figsize=(11,7))\n",
    "ax = fig.add_subplot(1, 1, 1)\n",
    "\n",
    "im = ax.imshow(sobel_max_vals, cmap='jet',vmin=0.0, vmax=1.0) #,vmin=0.0, vmax=1.0\n",
    "ax.set_title('Max sobel for different blurring and greyscales, k='+str(k))\n",
    "\n",
    "# im = ax.imshow(np.divide(np.subtract(sobel_max_vals_9, sobel_max_vals_7),sobel_max_vals_9)*100, cmap='jet') #,vmin=0.0, vmax=1.0\n",
    "# ax.set_title('Max sobel for different blurring and greyscales, k9-k7/k9 %')\n",
    "\n",
    "# im = ax.imshow(np.subtract(sobel_max_vals_9, sobel_max_vals_7), cmap='jet') #,vmin=0.0, vmax=1.0\n",
    "# ax.set_title('Max sobel for different blurring and greyscales, k9-k7')\n",
    "\n",
    "\n",
    "ax.set_xlabel('Blurring [sigma]')\n",
    "ax.set_ylabel('Greyscale [max value]')\n",
    "## ticks\n",
    "Nticks = 10\n",
    "\n",
    "stepx = int(np.round(NNs/(Nticks),0))\n",
    "Xticks_loc = [i*1.0/Nticks*NNs for i in range(0,Nticks)]\n",
    "Xticks_loc.append(NNs)\n",
    "Xticks_val = [blur_sigma_list[i*stepx] for i in range(0,Nticks)]\n",
    "Xticks_val.append(np.round(blur_sigma_list[-1],1))\n",
    "\n",
    "stepy = int(np.round(NNg/(Nticks),0))\n",
    "Yticks_loc = [i*1.0/Nticks*NNg for i in range(0,Nticks)]\n",
    "Yticks_loc.append(NNg)\n",
    "Yticks_val = [greyscale_g_list[i*stepy] for i in range(0,Nticks)]\n",
    "Yticks_val.append(np.round(greyscale_g_list[-1],1))\n",
    "\n",
    "ax.set_xticks(Xticks_loc)\n",
    "ax.set_xticklabels(Xticks_val)\n",
    "ax.set_yticks(Yticks_loc)\n",
    "ax.set_yticklabels(Yticks_val)\n",
    "\n",
    "divider = make_axes_locatable(ax)\n",
    "cax = divider.append_axes('right', size='5%', pad=0.05)\n",
    "fig.colorbar(im, cax=cax, orientation='vertical')\n",
    "\n",
    "plt.tight_layout()\n",
    "plt.savefig(save_directory+'/SimMaxSobel_BlurringGreyscale_k'+str(k)+'.png', transparent=True)\n",
    "# plt.savefig(save_directory+'/Results/SimMaxSobel_diff_k9-k7.png', transparent=True)\n",
    "plt.show()\n",
    "\n"
   ]
  },
  {
   "cell_type": "code",
   "execution_count": 28,
   "id": "medium-taiwan",
   "metadata": {},
   "outputs": [
    {
     "name": "stdout",
     "output_type": "stream",
     "text": [
      "fit parameters: a=1.469, b=0.403, c=0.190, m=0.000173, n=-0.000013, d=0.000\n",
      "fit errors on parameters: a=9382.936, b=0.000, c=1215.511, m=1.105946, n=0.082013, d=0.000\n"
     ]
    }
   ],
   "source": [
    "## Fit the 2D surface\n",
    "\n",
    "initial_guess = 1.49347127e+00, 4.02525068e-01, 1.93467577e-01, 1.70251464e-04, -1.20819172e-05, 7.50579437e-07 #a,b,c,m,n,d\n",
    "\n",
    "xx = sobel_max_vals_fits[:,0]\n",
    "yy = sobel_max_vals_fits[:,1]\n",
    "zz = sobel_max_vals_fits[:,2]\n",
    "popt, pcov = curve_fit(sobelModel, (xx,yy), zz, initial_guess)\n",
    "# ## Errors on fit\n",
    "perr = np.sqrt(np.diag(pcov))\n",
    "print('fit parameters: a=%5.3f, b=%5.3f, c=%5.3f, m=%5.6f, n=%5.6f, d=%5.3f' % tuple(popt))\n",
    "print('fit errors on parameters: a=%5.3f, b=%5.3f, c=%5.3f, m=%5.6f, n=%5.6f, d=%5.3f' % tuple(perr))\n",
    "zz_fit = sobelModel((xx,yy),*popt).reshape((NNg,NNs-10),order='F')\n",
    "zz_data = zz.reshape((NNg,NNs-10),order='F')\n",
    "\n",
    " #a,b,c,m,n,d\n",
    "fit_popt_str = 'a=%5.3f, b=%5.3f, c=%5.3f, m=%5.6f, n=%5.6f, d=%5.3f' % tuple(popt)\n",
    "fit_perr_str = 'a=%5.3f, b=%5.3f, c=%5.3f, m=%5.6f, n=%5.6f, d=%5.3f' % tuple(perr)"
   ]
  },
  {
   "cell_type": "code",
   "execution_count": 29,
   "id": "palestinian-heater",
   "metadata": {},
   "outputs": [
    {
     "data": {
      "application/vnd.jupyter.widget-view+json": {
       "model_id": "16badef692834c90b063ad2b75354dfe",
       "version_major": 2,
       "version_minor": 0
      },
      "text/plain": [
       "Canvas(toolbar=Toolbar(toolitems=[('Home', 'Reset original view', 'home', 'home'), ('Back', 'Back to previous …"
      ]
     },
     "metadata": {},
     "output_type": "display_data"
    },
    {
     "data": {
      "application/vnd.jupyter.widget-view+json": {
       "model_id": "29c090199e8f4f7c9d1af8fbe87f9e9a",
       "version_major": 2,
       "version_minor": 0
      },
      "text/plain": [
       "Canvas(toolbar=Toolbar(toolitems=[('Home', 'Reset original view', 'home', 'home'), ('Back', 'Back to previous …"
      ]
     },
     "metadata": {},
     "output_type": "display_data"
    },
    {
     "data": {
      "application/vnd.jupyter.widget-view+json": {
       "model_id": "f9e97a07808445c8966d93ccbe541acf",
       "version_major": 2,
       "version_minor": 0
      },
      "text/plain": [
       "Canvas(toolbar=Toolbar(toolitems=[('Home', 'Reset original view', 'home', 'home'), ('Back', 'Back to previous …"
      ]
     },
     "metadata": {},
     "output_type": "display_data"
    },
    {
     "data": {
      "application/vnd.jupyter.widget-view+json": {
       "model_id": "2d1bd00410b4454d9cafbf06715d0044",
       "version_major": 2,
       "version_minor": 0
      },
      "text/plain": [
       "Canvas(toolbar=Toolbar(toolitems=[('Home', 'Reset original view', 'home', 'home'), ('Back', 'Back to previous …"
      ]
     },
     "metadata": {},
     "output_type": "display_data"
    }
   ],
   "source": [
    "## Make figures\n",
    "\n",
    "### ************************************************************************************************\n",
    "## FIT\n",
    "\n",
    "fig = plt.figure(figsize=(11,7))\n",
    "ax = fig.add_subplot(1, 1, 1)\n",
    "\n",
    "im = ax.imshow(zz_fit, cmap='jet',vmin=0.0, vmax=1.0)\n",
    "ax.set_title('FIT: max sobel for different blurring and greyscales, (m*y+n)*(a*np.exp(-b*x)+c)+d \\n'+\n",
    "             'fit params: '+fit_popt_str)#+'\\n fit errors: '+fit_perr_str)\n",
    "\n",
    "ax.set_xlabel('Blurring [sigma]')\n",
    "ax.set_ylabel('Greyscale (max value)')\n",
    "## ticks\n",
    "Nticks = 10\n",
    "\n",
    "stepx = int(np.round(NNs/(Nticks),0))\n",
    "Xticks_loc = [i*1.0/Nticks*NNs for i in range(0,Nticks)]\n",
    "# Xticks_loc.append(NNs)\n",
    "Xticks_val = [blur_sigma_list[i*stepx] for i in range(1,Nticks)]\n",
    "Xticks_val.append(np.round(blur_sigma_list[-1],1))\n",
    "\n",
    "stepy = int(np.round(NNg/(Nticks),0))\n",
    "Yticks_loc = [i*1.0/Nticks*NNg for i in range(0,Nticks)]\n",
    "Yticks_loc.append(NNg)\n",
    "Yticks_val = [greyscale_g_list[i*stepy] for i in range(0,Nticks)]\n",
    "Yticks_val.append(np.round(greyscale_g_list[-1],1))\n",
    "\n",
    "ax.set_xticks(Xticks_loc)\n",
    "ax.set_xticklabels(Xticks_val)\n",
    "ax.set_yticks(Yticks_loc)\n",
    "ax.set_yticklabels(Yticks_val)\n",
    "\n",
    "divider = make_axes_locatable(ax)\n",
    "cax = divider.append_axes('right', size='5%', pad=0.05)\n",
    "fig.colorbar(im, cax=cax, orientation='vertical')\n",
    "\n",
    "plt.tight_layout()\n",
    "plt.savefig(save_directory+'/SimMaxSobel_k'+str(k)+'_fit.png', \n",
    "            transparent=True)\n",
    "plt.close()\n",
    "\n",
    "### ************************************************************************************************\n",
    "## DIFFERENCE\n",
    "\n",
    "fig = plt.figure(figsize=(11,7))\n",
    "ax = fig.add_subplot(1, 1, 1)\n",
    "\n",
    "im = ax.imshow(zz_fit-sobel_max_vals[:,0:-10], cmap='jet')\n",
    "ax.set_title('DIFFERENCE fit - data, (m*y+n)*(a*np.exp(-b*x)+c)+d \\n'+\n",
    "             'fit params: '+fit_popt_str)#+'\\n fit errors: '+fit_perr_str)\n",
    "\n",
    "ax.set_xlabel('Blurring [sigma]')\n",
    "ax.set_ylabel('Greyscale (max value)')\n",
    "## ticks\n",
    "Nticks = 10\n",
    "\n",
    "stepx = int(np.round(NNs/(Nticks),0))\n",
    "Xticks_loc = [i*1.0/Nticks*NNs for i in range(0,Nticks)]\n",
    "# Xticks_loc.append(NNs)\n",
    "Xticks_val = [blur_sigma_list[i*stepx] for i in range(1,Nticks)]\n",
    "Xticks_val.append(np.round(blur_sigma_list[-1],1))\n",
    "\n",
    "stepy = int(np.round(NNg/(Nticks),0))\n",
    "Yticks_loc = [i*1.0/Nticks*NNg for i in range(0,Nticks)]\n",
    "Yticks_loc.append(NNg)\n",
    "Yticks_val = [greyscale_g_list[i*stepy] for i in range(0,Nticks)]\n",
    "Yticks_val.append(np.round(greyscale_g_list[-1],1))\n",
    "\n",
    "ax.set_xticks(Xticks_loc)\n",
    "ax.set_xticklabels(Xticks_val)\n",
    "ax.set_yticks(Yticks_loc)\n",
    "ax.set_yticklabels(Yticks_val)\n",
    "\n",
    "divider = make_axes_locatable(ax)\n",
    "cax = divider.append_axes('right', size='5%', pad=0.05)\n",
    "fig.colorbar(im, cax=cax, orientation='vertical')\n",
    "\n",
    "plt.tight_layout()\n",
    "plt.savefig(save_directory+'/SimMaxSobel_k'+str(k)+'_difference.png', \n",
    "            transparent=True)\n",
    "plt.close()\n",
    "\n",
    "\n",
    "### ************************************************************************************************\n",
    "## DIFFERENCE PERCENTAGE\n",
    "\n",
    "fig = plt.figure(figsize=(11,7))\n",
    "ax = fig.add_subplot(1, 1, 1)\n",
    "\n",
    "im = ax.imshow(np.divide((zz_fit-zz_data),zz_data)*100, cmap='jet')\n",
    "ax.set_title('DIFFERENCE PERCENTAGE (fit - data)/data*100, (m*y+n)*(a*np.exp(-b*x)+c)+d \\n'+\n",
    "             'fit params: '+fit_popt_str)#+'\\n fit errors: '+fit_perr_str)\n",
    "\n",
    "ax.set_xlabel('Blurring [sigma]')\n",
    "ax.set_ylabel('Greyscale (max value)')\n",
    "## ticks\n",
    "Nticks = 10\n",
    "\n",
    "stepx = int(np.round(NNs/(Nticks),0))\n",
    "Xticks_loc = [i*1.0/Nticks*NNs for i in range(0,Nticks)]\n",
    "# Xticks_loc.append(NNs)\n",
    "Xticks_val = [blur_sigma_list[i*stepx] for i in range(1,Nticks)]\n",
    "Xticks_val.append(np.round(blur_sigma_list[-1],1))\n",
    "\n",
    "stepy = int(np.round(NNg/(Nticks),0))\n",
    "Yticks_loc = [i*1.0/Nticks*NNg for i in range(0,Nticks)]\n",
    "Yticks_loc.append(NNg)\n",
    "Yticks_val = [greyscale_g_list[i*stepy] for i in range(0,Nticks)]\n",
    "Yticks_val.append(np.round(greyscale_g_list[-1],1))\n",
    "\n",
    "ax.set_xticks(Xticks_loc)\n",
    "ax.set_xticklabels(Xticks_val)\n",
    "ax.set_yticks(Yticks_loc)\n",
    "ax.set_yticklabels(Yticks_val)\n",
    "\n",
    "divider = make_axes_locatable(ax)\n",
    "cax = divider.append_axes('right', size='5%', pad=0.05)\n",
    "fig.colorbar(im, cax=cax, orientation='vertical')\n",
    "\n",
    "plt.tight_layout()\n",
    "plt.savefig(save_directory+'/SimMaxSobel_k'+str(k)+'_differencePerc.png', \n",
    "            transparent=True)\n",
    "plt.close()\n",
    "\n",
    "### ************************************************************************************************\n",
    "## DATA\n",
    "\n",
    "fig = plt.figure(figsize=(11,7))\n",
    "ax = fig.add_subplot(1, 1, 1)\n",
    "\n",
    "im = ax.imshow(zz_data, cmap='jet',vmin=0.0, vmax=1.0)\n",
    "ax.set_title('DATA: max sobel for different blurring and greyscales, (m*y+n)*(a*np.exp(-b*x)+c)+d \\n'+\n",
    "             'fit params: '+fit_popt_str)#+'\\n fit errors: '+fit_perr_str)\n",
    "\n",
    "ax.set_xlabel('Blurring [sigma]')\n",
    "ax.set_ylabel('Greyscale (max value)')\n",
    "## ticks\n",
    "Nticks = 10\n",
    "\n",
    "stepx = int(np.round(NNs/(Nticks),0))\n",
    "Xticks_loc = [i*1.0/Nticks*NNs for i in range(0,Nticks)]\n",
    "# Xticks_loc.append(NNs)\n",
    "Xticks_val = [blur_sigma_list[i*stepx] for i in range(1,Nticks)]\n",
    "Xticks_val.append(np.round(blur_sigma_list[-1],1))\n",
    "\n",
    "stepy = int(np.round(NNg/(Nticks),0))\n",
    "Yticks_loc = [i*1.0/Nticks*NNg for i in range(0,Nticks)]\n",
    "Yticks_loc.append(NNg)\n",
    "Yticks_val = [greyscale_g_list[i*stepy] for i in range(0,Nticks)]\n",
    "Yticks_val.append(np.round(greyscale_g_list[-1],1))\n",
    "\n",
    "ax.set_xticks(Xticks_loc)\n",
    "ax.set_xticklabels(Xticks_val)\n",
    "ax.set_yticks(Yticks_loc)\n",
    "ax.set_yticklabels(Yticks_val)\n",
    "\n",
    "divider = make_axes_locatable(ax)\n",
    "cax = divider.append_axes('right', size='5%', pad=0.05)\n",
    "fig.colorbar(im, cax=cax, orientation='vertical')\n",
    "\n",
    "plt.tight_layout()\n",
    "plt.savefig(save_directory+'/SimMaxSobel_k'+str(k)+'_data.png', \n",
    "            transparent=True)\n",
    "plt.close()\n"
   ]
  },
  {
   "cell_type": "code",
   "execution_count": null,
   "id": "independent-turkish",
   "metadata": {},
   "outputs": [],
   "source": []
  },
  {
   "cell_type": "code",
   "execution_count": null,
   "id": "processed-unemployment",
   "metadata": {},
   "outputs": [],
   "source": []
  },
  {
   "cell_type": "code",
   "execution_count": null,
   "id": "curious-scene",
   "metadata": {},
   "outputs": [],
   "source": [
    "## Different way to handle greyscale"
   ]
  },
  {
   "cell_type": "code",
   "execution_count": 54,
   "id": "inclusive-campbell",
   "metadata": {},
   "outputs": [
    {
     "name": "stdout",
     "output_type": "stream",
     "text": [
      "3095.7557997557997 4096.0\n"
     ]
    },
    {
     "name": "stderr",
     "output_type": "stream",
     "text": [
      "<ipython-input-54-3428457b0ba3>:10: RuntimeWarning: More than 20 figures have been opened. Figures created through the pyplot interface (`matplotlib.pyplot.figure`) are retained until explicitly closed and may consume too much memory. (To control this warning, see the rcParam `figure.max_open_warning`).\n",
      "  plt.figure()\n"
     ]
    },
    {
     "data": {
      "application/vnd.jupyter.widget-view+json": {
       "model_id": "ef0f2371a6a840eeb7391ffa8e8e0908",
       "version_major": 2,
       "version_minor": 0
      },
      "text/plain": [
       "Canvas(toolbar=Toolbar(toolitems=[('Home', 'Reset original view', 'home', 'home'), ('Back', 'Back to previous …"
      ]
     },
     "metadata": {},
     "output_type": "display_data"
    }
   ],
   "source": [
    "gg = 1000\n",
    "ggg = 2**12 -gg\n",
    "\n",
    "test = im_perfect_sub/np.amax(im_perfect_sub)*(2**12-ggg) +ggg\n",
    "\n",
    "test[0,0] = 0.0\n",
    "test[0,1] = 2**12\n",
    "print(np.amin(test[1:,:]), np.amax(test))\n",
    "plt.figure()\n",
    "plt.imshow(test,cmap='gray')\n",
    "plt.colorbar()\n",
    "plt.show()"
   ]
  },
  {
   "cell_type": "code",
   "execution_count": 65,
   "id": "common-bryan",
   "metadata": {},
   "outputs": [],
   "source": [
    "k = 9 \n",
    "\n",
    "# Define blurring params (sigma for Gaussian blurring)\n",
    "blur_sigma_list = np.arange(0.0, 10.0, 0.05)\n",
    "# Define greyscale params (max value)\n",
    "greyscale_g_list = np.arange(2**12-1,int((2**12-1)/4),-20)\n",
    "\n",
    "NNs = len(blur_sigma_list)\n",
    "NNg = len(greyscale_g_list)\n",
    "M_sub = np.amax(im_perfect_sub)\n",
    "sobel_max_vals_2 = np.zeros((NNg,NNs))\n",
    "sobel_max_vals_fits_2 = []\n",
    "\n",
    "if k==9:\n",
    "    width_0 = width_0_curved\n",
    "    start_0 = start_0_curved\n",
    "elif k==7:\n",
    "    width_0 = width_0_flat\n",
    "    start_0 = start_0_flat\n",
    "else:\n",
    "    print('Adust values of Artificial feature to the k value')\n",
    "    \n",
    "\n",
    "for i in range(0,NNs):\n",
    "    for j in range(0,NNg):\n",
    "        ## Get values of blurring (sigma) and greyscale (g)\n",
    "        sigma = blur_sigma_list[i]\n",
    "        g = greyscale_g_list[j] # depth of the greyscale\n",
    "#         print('g ', g)\n",
    "        ## adjust greyscale, now raising the black instead of lowering the white\n",
    "        gg = 2**12 - g\n",
    "        im_perfect_g = im_perfect_sub/np.amax(im_perfect_sub)*(2**12-gg) +gg\n",
    "#         print('im_perfect_g ', np.amin(im_perfect_g), np.amax(im_perfect_g))\n",
    "        ## blurr  image\n",
    "        im_blurred = gaussian_filter(im_perfect_g, sigma)\n",
    "#         print('im_blurred ', np.amin(im_blurred), np.amax(im_blurred))\n",
    "        ## add artificial feature that normalizes the sobel\n",
    "        im_blurred_AF = AddArtificialFeature(im_blurred, width_0, start_0)\n",
    "        \n",
    "        ## take sobel\n",
    "        im_blurred_sobel = Sobel(im_blurred_AF, k, 'self')\n",
    "        ## remove artificial featre\n",
    "        im_blurred_sobel_noAF = RemoveArtificialFeature(im_blurred_sobel, width_0, start_0, k)\n",
    "#         print('im_blurred_sobel_noAF ', np.amin(im_blurred_sobel_noAF), np.amax(im_blurred_sobel_noAF))\n",
    "        ## take value of max sobel\n",
    "        M_blurred = np.round(np.amax(im_blurred_sobel_noAF),3)\n",
    "#         print('M_blurred ', M_blurred)\n",
    "        sobel_max_vals_2[j,i] = M_blurred\n",
    "        ## fix to give the fit a chance because blurring with sigma<1.0 behaves oddly\n",
    "        if i>=10: \n",
    "            sobel_max_vals_fits_2.append([sigma, g, M_blurred])\n",
    "        \n",
    "sobel_max_vals_fits_2 = np.array(sobel_max_vals_fits_2)\n",
    "\n",
    "## Save data\n",
    "np.save(save_directory+'/Data/NewGreyscale_k'+str(k)+'.npy', \n",
    "        sobel_max_vals_fits_2)"
   ]
  },
  {
   "cell_type": "code",
   "execution_count": 67,
   "id": "certain-arbitration",
   "metadata": {},
   "outputs": [
    {
     "name": "stderr",
     "output_type": "stream",
     "text": [
      "<ipython-input-67-ba1980f9ec92>:2: RuntimeWarning: More than 20 figures have been opened. Figures created through the pyplot interface (`matplotlib.pyplot.figure`) are retained until explicitly closed and may consume too much memory. (To control this warning, see the rcParam `figure.max_open_warning`).\n",
      "  fig = plt.figure(figsize=(11,7))\n"
     ]
    },
    {
     "data": {
      "application/vnd.jupyter.widget-view+json": {
       "model_id": "2974c939027d46b2b0f64bdf898d110a",
       "version_major": 2,
       "version_minor": 0
      },
      "text/plain": [
       "Canvas(toolbar=Toolbar(toolitems=[('Home', 'Reset original view', 'home', 'home'), ('Back', 'Back to previous …"
      ]
     },
     "metadata": {},
     "output_type": "display_data"
    }
   ],
   "source": [
    "## Plot results\n",
    "fig = plt.figure(figsize=(11,7))\n",
    "ax = fig.add_subplot(1, 1, 1)\n",
    "\n",
    "im = ax.imshow(sobel_max_vals_2, cmap='jet',vmin=0.0, vmax=1.0) #,vmin=0.0, vmax=1.0\n",
    "ax.set_title('Max sobel for different blurring and greyscales, k='+str(k))\n",
    "\n",
    "ax.set_xlabel('Blurring [sigma]')\n",
    "ax.set_ylabel('Greyscale [max value]')\n",
    "## ticks\n",
    "Nticks = 10\n",
    "\n",
    "stepx = int(np.round(NNs/(Nticks),0))\n",
    "Xticks_loc = [i*1.0/Nticks*NNs for i in range(0,Nticks)]\n",
    "Xticks_loc.append(NNs)\n",
    "Xticks_val = [blur_sigma_list[i*stepx] for i in range(0,Nticks)]\n",
    "Xticks_val.append(np.round(blur_sigma_list[-1],1))\n",
    "\n",
    "stepy = int(np.round(NNg/(Nticks),0))\n",
    "Yticks_loc = [i*1.0/Nticks*NNg for i in range(0,Nticks)]\n",
    "Yticks_loc.append(NNg)\n",
    "Yticks_val = [greyscale_g_list[i*stepy] for i in range(0,Nticks)]\n",
    "Yticks_val.append(np.round(greyscale_g_list[-1],1))\n",
    "\n",
    "ax.set_xticks(Xticks_loc)\n",
    "ax.set_xticklabels(Xticks_val)\n",
    "ax.set_yticks(Yticks_loc)\n",
    "ax.set_yticklabels(Yticks_val)\n",
    "\n",
    "divider = make_axes_locatable(ax)\n",
    "cax = divider.append_axes('right', size='5%', pad=0.05)\n",
    "fig.colorbar(im, cax=cax, orientation='vertical')\n",
    "\n",
    "plt.tight_layout()\n",
    "plt.savefig(save_directory+'/NewGreyscale_k'+str(k)+'.png', transparent=True)\n",
    "plt.show()\n",
    "\n"
   ]
  },
  {
   "cell_type": "code",
   "execution_count": 68,
   "id": "brutal-heavy",
   "metadata": {},
   "outputs": [
    {
     "name": "stdout",
     "output_type": "stream",
     "text": [
      "Alternative greyscale:\n",
      "fit parameters: a=1.469, b=0.403, c=0.190, m=0.000173, n=-0.000013, d=0.000\n",
      "fit errors on parameters: a=9382.936, b=0.000, c=1215.511, m=1.105946, n=0.082013, d=0.000\n"
     ]
    }
   ],
   "source": [
    "## Fit the 2D surface\n",
    "\n",
    "initial_guess = 1.49347127e+00, 4.02525068e-01, 1.93467577e-01, 1.70251464e-04, -1.20819172e-05, 7.50579437e-07 #a,b,c,m,n,d\n",
    "\n",
    "xx = sobel_max_vals_fits_2[:,0]\n",
    "yy = sobel_max_vals_fits_2[:,1]\n",
    "zz = sobel_max_vals_fits_2[:,2]\n",
    "popt, pcov = curve_fit(sobelModel, (xx,yy), zz, initial_guess)\n",
    "# ## Errors on fit\n",
    "perr = np.sqrt(np.diag(pcov))\n",
    "print('Alternative greyscale:')\n",
    "print('fit parameters: a=%5.3f, b=%5.3f, c=%5.3f, m=%5.6f, n=%5.6f, d=%5.3f' % tuple(popt))\n",
    "print('fit errors on parameters: a=%5.3f, b=%5.3f, c=%5.3f, m=%5.6f, n=%5.6f, d=%5.3f' % tuple(perr))\n",
    "zz_fit = sobelModel((xx,yy),*popt).reshape((NNg,NNs-10),order='F')\n",
    "zz_data = zz.reshape((NNg,NNs-10),order='F')\n",
    "\n",
    " #a,b,c,m,n,d\n",
    "fit_popt_str = 'a=%5.3f, b=%5.3f, c=%5.3f, m=%5.6f, n=%5.6f, d=%5.3f' % tuple(popt)\n",
    "fit_perr_str = 'a=%5.3f, b=%5.3f, c=%5.3f, m=%5.6f, n=%5.6f, d=%5.3f' % tuple(perr)"
   ]
  },
  {
   "cell_type": "code",
   "execution_count": 71,
   "id": "acquired-container",
   "metadata": {},
   "outputs": [
    {
     "name": "stdout",
     "output_type": "stream",
     "text": [
      "Subraction extremum:  0.0 0.0\n"
     ]
    },
    {
     "name": "stderr",
     "output_type": "stream",
     "text": [
      "<ipython-input-71-06c5d48558e5>:5: RuntimeWarning: More than 20 figures have been opened. Figures created through the pyplot interface (`matplotlib.pyplot.figure`) are retained until explicitly closed and may consume too much memory. (To control this warning, see the rcParam `figure.max_open_warning`).\n",
      "  fig = plt.figure(figsize=(11,7))\n"
     ]
    },
    {
     "data": {
      "application/vnd.jupyter.widget-view+json": {
       "model_id": "12679a97fff24e2b99578978c731838c",
       "version_major": 2,
       "version_minor": 0
      },
      "text/plain": [
       "Canvas(toolbar=Toolbar(toolitems=[('Home', 'Reset original view', 'home', 'home'), ('Back', 'Back to previous …"
      ]
     },
     "metadata": {},
     "output_type": "display_data"
    }
   ],
   "source": [
    "## Plot difference\n",
    "diff = np.subtract(sobel_max_vals, sobel_max_vals_2)\n",
    "\n",
    "print('Subraction extremum: ',np.amin(diff), np.amax(diff))\n",
    "fig = plt.figure(figsize=(11,7))\n",
    "ax = fig.add_subplot(1, 1, 1)\n",
    "\n",
    "im = ax.imshow(diff, cmap='jet') #,vmin=0.0, vmax=1.0\n",
    "ax.set_title('Difference betweeen greyscales (lowering white - raising black), k='+str(k))\n",
    "\n",
    "ax.set_xlabel('Blurring [sigma]')\n",
    "ax.set_ylabel('Greyscale [max value]')\n",
    "## ticks\n",
    "Nticks = 10\n",
    "\n",
    "stepx = int(np.round(NNs/(Nticks),0))\n",
    "Xticks_loc = [i*1.0/Nticks*NNs for i in range(0,Nticks)]\n",
    "Xticks_loc.append(NNs)\n",
    "Xticks_val = [blur_sigma_list[i*stepx] for i in range(0,Nticks)]\n",
    "Xticks_val.append(np.round(blur_sigma_list[-1],1))\n",
    "\n",
    "stepy = int(np.round(NNg/(Nticks),0))\n",
    "Yticks_loc = [i*1.0/Nticks*NNg for i in range(0,Nticks)]\n",
    "Yticks_loc.append(NNg)\n",
    "Yticks_val = [greyscale_g_list[i*stepy] for i in range(0,Nticks)]\n",
    "Yticks_val.append(np.round(greyscale_g_list[-1],1))\n",
    "\n",
    "ax.set_xticks(Xticks_loc)\n",
    "ax.set_xticklabels(Xticks_val)\n",
    "ax.set_yticks(Yticks_loc)\n",
    "ax.set_yticklabels(Yticks_val)\n",
    "\n",
    "divider = make_axes_locatable(ax)\n",
    "cax = divider.append_axes('right', size='5%', pad=0.05)\n",
    "fig.colorbar(im, cax=cax, orientation='vertical')\n",
    "\n",
    "plt.tight_layout()\n",
    "plt.savefig(save_directory+'/NewGreyscale_comparison_k'+str(k)+'.png', transparent=True)\n",
    "plt.show()\n",
    "\n"
   ]
  },
  {
   "cell_type": "code",
   "execution_count": null,
   "id": "breeding-rebecca",
   "metadata": {},
   "outputs": [],
   "source": []
  }
 ],
 "metadata": {
  "kernelspec": {
   "display_name": "Python 3",
   "language": "python",
   "name": "python3"
  },
  "language_info": {
   "codemirror_mode": {
    "name": "ipython",
    "version": 3
   },
   "file_extension": ".py",
   "mimetype": "text/x-python",
   "name": "python",
   "nbconvert_exporter": "python",
   "pygments_lexer": "ipython3",
   "version": "3.8.3"
  }
 },
 "nbformat": 4,
 "nbformat_minor": 5
}
